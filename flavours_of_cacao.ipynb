{
 "cells": [
  {
   "cell_type": "markdown",
   "metadata": {},
   "source": [
    "# FLAVOURS OF CACAO "
   ]
  },
  {
   "cell_type": "code",
   "execution_count": null,
   "metadata": {},
   "outputs": [],
   "source": [
    "In this study we are going to analyze chocolate bar ratings.\n",
    "We are going to check the distribution of beans origin, company locations of different companies producing chocolates.\n",
    "This will help in understanding how cocoa percentage in chocolates affects its ratings, where the best cocoa beans are grown, \n",
    "what companies produce the best chocolates in the worlds and which countries have the highest chocolate ratings and the number \n",
    "of chocolates were rated."
   ]
  },
  {
   "cell_type": "code",
   "execution_count": null,
   "metadata": {},
   "outputs": [],
   "source": [
    "Firstly, we are going to import the libraries we need"
   ]
  },
  {
   "cell_type": "code",
   "execution_count": 7,
   "metadata": {},
   "outputs": [
    {
     "name": "stderr",
     "output_type": "stream",
     "text": [
      "-- \u001b[1mAttaching packages\u001b[22m --------------------------------------- tidyverse 1.3.0 --\n",
      "\n",
      "\u001b[32mv\u001b[39m \u001b[34mggplot2\u001b[39m 3.2.1     \u001b[32mv\u001b[39m \u001b[34mpurrr  \u001b[39m 0.3.3\n",
      "\u001b[32mv\u001b[39m \u001b[34mtibble \u001b[39m 2.1.3     \u001b[32mv\u001b[39m \u001b[34mdplyr  \u001b[39m 0.8.3\n",
      "\u001b[32mv\u001b[39m \u001b[34mtidyr  \u001b[39m 1.0.0     \u001b[32mv\u001b[39m \u001b[34mstringr\u001b[39m 1.4.0\n",
      "\u001b[32mv\u001b[39m \u001b[34mreadr  \u001b[39m 1.3.1     \u001b[32mv\u001b[39m \u001b[34mforcats\u001b[39m 0.4.0\n",
      "\n",
      "Warning message:\n",
      "\"package 'tidyr' was built under R version 3.6.2\"\n",
      "Warning message:\n",
      "\"package 'stringr' was built under R version 3.6.2\"\n",
      "-- \u001b[1mConflicts\u001b[22m ------------------------------------------ tidyverse_conflicts() --\n",
      "\u001b[31mx\u001b[39m \u001b[34mdplyr\u001b[39m::\u001b[32mfilter()\u001b[39m masks \u001b[34mstats\u001b[39m::filter()\n",
      "\u001b[31mx\u001b[39m \u001b[34mdplyr\u001b[39m::\u001b[32mlag()\u001b[39m    masks \u001b[34mstats\u001b[39m::lag()\n",
      "\n"
     ]
    }
   ],
   "source": [
    "#install libraries\n",
    "library(tidyverse);\n",
    "library(dplyr);"
   ]
  },
  {
   "cell_type": "code",
   "execution_count": null,
   "metadata": {},
   "outputs": [],
   "source": [
    "After installing the libraries, we then import the dataset we are going to analyze."
   ]
  },
  {
   "cell_type": "code",
   "execution_count": 17,
   "metadata": {},
   "outputs": [],
   "source": [
    "#import csv file\n",
    "cocoa<- read.csv(\"flavors_of_cacao.csv\",header = TRUE, stringsAsFactors=FALSE);\n"
   ]
  },
  {
   "cell_type": "code",
   "execution_count": null,
   "metadata": {},
   "outputs": [],
   "source": [
    "The dataset was relatively clean, except for some misspellings and characters that are not of any help in the analysis.\n",
    "I also removed the white spaces in the column names since they would bring difficulties when working the dataset.\n",
    "The dataset has over 1700 rows and 11 variables. All of the variables are of significance in the data anlysis."
   ]
  },
  {
   "cell_type": "code",
   "execution_count": 3,
   "metadata": {},
   "outputs": [
    {
     "data": {
      "text/html": [
       "<ol class=list-inline>\n",
       "\t<li>'CompanyÂ...Maker.if.known.'</li>\n",
       "\t<li>'Specific.Bean.Origin.or.Bar.Name'</li>\n",
       "\t<li>'REF'</li>\n",
       "\t<li>'Review.Date'</li>\n",
       "\t<li>'Cocoa.Percent'</li>\n",
       "\t<li>'Company.Location'</li>\n",
       "\t<li>'Rating'</li>\n",
       "\t<li>'Bean.Type'</li>\n",
       "\t<li>'Broad.Bean.Origin'</li>\n",
       "</ol>\n"
      ],
      "text/latex": [
       "\\begin{enumerate*}\n",
       "\\item 'CompanyÂ...Maker.if.known.'\n",
       "\\item 'Specific.Bean.Origin.or.Bar.Name'\n",
       "\\item 'REF'\n",
       "\\item 'Review.Date'\n",
       "\\item 'Cocoa.Percent'\n",
       "\\item 'Company.Location'\n",
       "\\item 'Rating'\n",
       "\\item 'Bean.Type'\n",
       "\\item 'Broad.Bean.Origin'\n",
       "\\end{enumerate*}\n"
      ],
      "text/markdown": [
       "1. 'CompanyÂ...Maker.if.known.'\n",
       "2. 'Specific.Bean.Origin.or.Bar.Name'\n",
       "3. 'REF'\n",
       "4. 'Review.Date'\n",
       "5. 'Cocoa.Percent'\n",
       "6. 'Company.Location'\n",
       "7. 'Rating'\n",
       "8. 'Bean.Type'\n",
       "9. 'Broad.Bean.Origin'\n",
       "\n",
       "\n"
      ],
      "text/plain": [
       "[1] \"CompanyÂ...Maker.if.known.\"       \"Specific.Bean.Origin.or.Bar.Name\"\n",
       "[3] \"REF\"                              \"Review.Date\"                     \n",
       "[5] \"Cocoa.Percent\"                    \"Company.Location\"                \n",
       "[7] \"Rating\"                           \"Bean.Type\"                       \n",
       "[9] \"Broad.Bean.Origin\"               "
      ]
     },
     "metadata": {},
     "output_type": "display_data"
    }
   ],
   "source": [
    "#check names \n",
    "names(cocoa)\n"
   ]
  },
  {
   "cell_type": "code",
   "execution_count": null,
   "metadata": {},
   "outputs": [],
   "source": [
    "The names of the variables are going to be renamed to remove white spaces:"
   ]
  },
  {
   "cell_type": "code",
   "execution_count": 21,
   "metadata": {},
   "outputs": [],
   "source": [
    "#rename column names\n",
    "cocoa<-rename(cocoa, CompanyName=CompanyÂ...Maker.if.known.)\n",
    "cocoa<-rename(cocoa, CocoaPercent=Cocoa.Percent)\n",
    "cocoa<-rename(cocoa, BroadBeanOrigin=Broad.Bean.Origin)\n",
    "cocoa<-rename(cocoa, ReviewDate=Review.Date)\n",
    "cocoa<-rename(cocoa, CompanyLocation=Company.Location)\n",
    "cocoa<-rename(cocoa, SpecificBeanOrigin=Specific.Bean.Origin.or.Bar.Name)\n",
    "cocoa<-rename(cocoa, BeanType=Bean.Type)\n"
   ]
  },
  {
   "cell_type": "code",
   "execution_count": null,
   "metadata": {},
   "outputs": [],
   "source": [
    "After renaming, we confirm whether all variable names have been renamed."
   ]
  },
  {
   "cell_type": "code",
   "execution_count": 22,
   "metadata": {},
   "outputs": [
    {
     "name": "stdout",
     "output_type": "stream",
     "text": [
      "'data.frame':\t1795 obs. of  9 variables:\n",
      " $ CompanyName       : chr  \"A. Morin\" \"A. Morin\" \"A. Morin\" \"A. Morin\" ...\n",
      " $ SpecificBeanOrigin: chr  \"Agua Grande\" \"Kpime\" \"Atsane\" \"Akata\" ...\n",
      " $ REF               : int  1876 1676 1676 1680 1704 1315 1315 1315 1319 1319 ...\n",
      " $ ReviewDate        : int  2016 2015 2015 2015 2015 2014 2014 2014 2014 2014 ...\n",
      " $ CocoaPercent      : chr  \"63%\" \"70%\" \"70%\" \"70%\" ...\n",
      " $ CompanyLocation   : chr  \"France\" \"France\" \"France\" \"France\" ...\n",
      " $ Rating            : num  3.75 2.75 3 3.5 3.5 2.75 3.5 3.5 3.75 4 ...\n",
      " $ BeanType          : chr  \"Â \" \"Â \" \"Â \" \"Â \" ...\n",
      " $ BroadBeanOrigin   : chr  \"Sao Tome\" \"Togo\" \"Togo\" \"Togo\" ...\n"
     ]
    }
   ],
   "source": [
    "#check structure\n",
    "str(cocoa);\n"
   ]
  },
  {
   "cell_type": "code",
   "execution_count": null,
   "metadata": {},
   "outputs": [],
   "source": [
    "We then convert CocoaPercent from character to numeric and ReviewDate to a factor, remove the \"%\" and replace it with \"\" and\n",
    "also change misspellings made in the dataset."
   ]
  },
  {
   "cell_type": "code",
   "execution_count": 23,
   "metadata": {},
   "outputs": [
    {
     "name": "stdout",
     "output_type": "stream",
     "text": [
      "'data.frame':\t1795 obs. of  9 variables:\n",
      " $ CompanyName       : chr  \"A. Morin\" \"A. Morin\" \"A. Morin\" \"A. Morin\" ...\n",
      " $ SpecificBeanOrigin: chr  \"Agua Grande\" \"Kpime\" \"Atsane\" \"Akata\" ...\n",
      " $ REF               : num  1876 1676 1676 1680 1704 ...\n",
      " $ ReviewDate        : Factor w/ 12 levels \"2006\",\"2007\",..: 11 10 10 10 10 9 9 9 9 9 ...\n",
      " $ CocoaPercent      : num  63 70 70 70 70 70 70 70 70 70 ...\n",
      " $ CompanyLocation   : chr  \"France\" \"France\" \"France\" \"France\" ...\n",
      " $ Rating            : num  3.75 2.75 3 3.5 3.5 2.75 3.5 3.5 3.75 4 ...\n",
      " $ BeanType          : chr  \"Â \" \"Â \" \"Â \" \"Â \" ...\n",
      " $ BroadBeanOrigin   : chr  \"Sao Tome\" \"Togo\" \"Togo\" \"Togo\" ...\n"
     ]
    }
   ],
   "source": [
    "#convert character vars to numeric variables.\n",
    "\n",
    "cocoa$REF<- as.numeric(cocoa$REF)\n",
    "cocoa$ReviewDate<- as.factor(cocoa$ReviewDate)\n",
    "\n",
    "\n",
    "#Make percentage into decimal.\n",
    "cocoa$CocoaPercent <- as.numeric(sub(\"%\", \"\",cocoa$CocoaPercent,fixed=TRUE))\n",
    "\n",
    "\n",
    "#Correct misspellings in the dataset\n",
    "cocoa[cocoa == \"Eucador\"] <- \"Ecuador\"\n",
    "cocoa[cocoa == \"Domincan Republic\"] <- \"Dominican Republic\"\n",
    "cocoa[cocoa == \"Niacragua\"] <- \"Nicaragua\"\n",
    "\n",
    "#check the structure afterwards\n",
    "str(cocoa);"
   ]
  },
  {
   "cell_type": "code",
   "execution_count": null,
   "metadata": {},
   "outputs": [],
   "source": [
    "After cleaning the data, we are going to study several distributions that can be plotted from the data we have. \n",
    "The distributions we are going to plot are:\n"
   ]
  },
  {
   "cell_type": "markdown",
   "metadata": {},
   "source": [
    "#### (i).Distribution of ratings against its count"
   ]
  },
  {
   "cell_type": "code",
   "execution_count": 8,
   "metadata": {},
   "outputs": [
    {
     "data": {
      "text/html": [
       "<table>\n",
       "<caption>A tibble: 13 × 2</caption>\n",
       "<thead>\n",
       "\t<tr><th scope=col>Rating</th><th scope=col>countRate</th></tr>\n",
       "\t<tr><th scope=col>&lt;dbl&gt;</th><th scope=col>&lt;int&gt;</th></tr>\n",
       "</thead>\n",
       "<tbody>\n",
       "\t<tr><td>1.00</td><td>  4</td></tr>\n",
       "\t<tr><td>1.50</td><td> 10</td></tr>\n",
       "\t<tr><td>1.75</td><td>  3</td></tr>\n",
       "\t<tr><td>2.00</td><td> 32</td></tr>\n",
       "\t<tr><td>2.25</td><td> 14</td></tr>\n",
       "\t<tr><td>2.50</td><td>127</td></tr>\n",
       "\t<tr><td>2.75</td><td>259</td></tr>\n",
       "\t<tr><td>3.00</td><td>341</td></tr>\n",
       "\t<tr><td>3.25</td><td>303</td></tr>\n",
       "\t<tr><td>3.50</td><td>392</td></tr>\n",
       "\t<tr><td>3.75</td><td>210</td></tr>\n",
       "\t<tr><td>4.00</td><td> 98</td></tr>\n",
       "\t<tr><td>5.00</td><td>  2</td></tr>\n",
       "</tbody>\n",
       "</table>\n"
      ],
      "text/latex": [
       "A tibble: 13 × 2\n",
       "\\begin{tabular}{r|ll}\n",
       " Rating & countRate\\\\\n",
       " <dbl> & <int>\\\\\n",
       "\\hline\n",
       "\t 1.00 &   4\\\\\n",
       "\t 1.50 &  10\\\\\n",
       "\t 1.75 &   3\\\\\n",
       "\t 2.00 &  32\\\\\n",
       "\t 2.25 &  14\\\\\n",
       "\t 2.50 & 127\\\\\n",
       "\t 2.75 & 259\\\\\n",
       "\t 3.00 & 341\\\\\n",
       "\t 3.25 & 303\\\\\n",
       "\t 3.50 & 392\\\\\n",
       "\t 3.75 & 210\\\\\n",
       "\t 4.00 &  98\\\\\n",
       "\t 5.00 &   2\\\\\n",
       "\\end{tabular}\n"
      ],
      "text/markdown": [
       "\n",
       "A tibble: 13 × 2\n",
       "\n",
       "| Rating &lt;dbl&gt; | countRate &lt;int&gt; |\n",
       "|---|---|\n",
       "| 1.00 |   4 |\n",
       "| 1.50 |  10 |\n",
       "| 1.75 |   3 |\n",
       "| 2.00 |  32 |\n",
       "| 2.25 |  14 |\n",
       "| 2.50 | 127 |\n",
       "| 2.75 | 259 |\n",
       "| 3.00 | 341 |\n",
       "| 3.25 | 303 |\n",
       "| 3.50 | 392 |\n",
       "| 3.75 | 210 |\n",
       "| 4.00 |  98 |\n",
       "| 5.00 |   2 |\n",
       "\n"
      ],
      "text/plain": [
       "   Rating countRate\n",
       "1  1.00     4      \n",
       "2  1.50    10      \n",
       "3  1.75     3      \n",
       "4  2.00    32      \n",
       "5  2.25    14      \n",
       "6  2.50   127      \n",
       "7  2.75   259      \n",
       "8  3.00   341      \n",
       "9  3.25   303      \n",
       "10 3.50   392      \n",
       "11 3.75   210      \n",
       "12 4.00    98      \n",
       "13 5.00     2      "
      ]
     },
     "metadata": {},
     "output_type": "display_data"
    },
    {
     "data": {
      "image/png": "[encoded data removed]",
      "text/plain": [
       "plot without title"
      ]
     },
     "metadata": {
      "image/png": {
       "height": 420,
       "width": 420
      },
      "text/plain": {
       "height": 420,
       "width": 420
      }
     },
     "output_type": "display_data"
    }
   ],
   "source": [
    "#Distribution  of ratings\n",
    "\n",
    "cocoa %>%   group_by(Rating) %>%  summarise(countRate=n())\n",
    "\n",
    "ggplot(cocoa, aes(x=Rating))+ geom_bar()\n"
   ]
  },
  {
   "cell_type": "code",
   "execution_count": null,
   "metadata": {},
   "outputs": [],
   "source": [
    "This distribution shows that the most ratings given to chocolate bars 3.5 with the least being 1 and 5."
   ]
  },
  {
   "cell_type": "markdown",
   "metadata": {},
   "source": [
    "#### (ii) Distribution of CocoaPercentage against Ratings."
   ]
  },
  {
   "cell_type": "code",
   "execution_count": 10,
   "metadata": {},
   "outputs": [
    {
     "name": "stderr",
     "output_type": "stream",
     "text": [
      "`geom_smooth()` using method = 'loess' and formula 'y ~ x'\n",
      "\n"
     ]
    },
    {
     "data": {
      "image/png": "[encoded data removed]",
      "text/plain": [
       "plot without title"
      ]
     },
     "metadata": {
      "image/png": {
       "height": 420,
       "width": 420
      },
      "text/plain": {
       "height": 420,
       "width": 420
      }
     },
     "output_type": "display_data"
    }
   ],
   "source": [
    "#Distribution of cocoa percent with ratings\n",
    "\n",
    "cocoaPercent <- cocoa %>% group_by(CocoaPercent) %>% summarise(countRate=mean(Rating), num=n()) \n",
    "\n",
    "ggplot(cocoaPercent, aes(x=CocoaPercent, y=countRate))+geom_point()+ geom_smooth()+\n",
    "ylab(\"Ratings\"); \n",
    "\n"
   ]
  },
  {
   "cell_type": "code",
   "execution_count": null,
   "metadata": {},
   "outputs": [],
   "source": [
    "This distribution explains how concentration of cocoa in chocolate bars affects its ratings. \n",
    "Chocolate bars with low cocoa percentage have low ratings but those with extremely high cocoa percentage have even \n",
    "lower ratings. Chocolate bars that were rated highly have cocoa percentage ranging between 60 and 70. "
   ]
  },
  {
   "cell_type": "markdown",
   "metadata": {},
   "source": [
    "#### (iii) Distribution of Company Location against Ratings. "
   ]
  },
  {
   "cell_type": "code",
   "execution_count": 43,
   "metadata": {},
   "outputs": [
    {
     "data": {
      "image/png": "[encoded data removed]",
      "text/plain": [
       "plot without title"
      ]
     },
     "metadata": {
      "image/png": {
       "height": 420,
       "width": 420
      },
      "text/plain": {
       "height": 420,
       "width": 420
      }
     },
     "output_type": "display_data"
    }
   ],
   "source": [
    "companyRatings<-cocoa %>% group_by(CompanyLocation) %>%  \n",
    "  summarise(countRate=mean(Rating), num=n())%>%\n",
    "  arrange(desc(countRate)) \n",
    "\n",
    "ggplot(companyRatings, aes(x=reorder(CompanyLocation, -countRate), y=countRate , fill=countRate, x.width=100))+geom_bar(stat=\"identity\")+\n",
    "  theme(axis.text.x = element_text(angle = 90, hjust = 1, size=11), axis.text.y = element_text(size=15), legend.position=\"none\") +\n",
    "  scale_fill_continuous(trans = 'reverse', type=\"viridis\")+ylab(\"Ratings\")+xlab(\"Company Location\")\n",
    "\n"
   ]
  },
  {
   "cell_type": "code",
   "execution_count": null,
   "metadata": {},
   "outputs": [],
   "source": [
    "The above distribution explains from what country the chocolate bars with the most ratings originated. \n",
    "Chile produces the highest rated  chocolate bars and India produces the least rated chocolate bars.\n"
   ]
  },
  {
   "cell_type": "markdown",
   "metadata": {},
   "source": [
    "#### (iv) Distribution of Companies with ratings for top 5 companies"
   ]
  },
  {
   "cell_type": "code",
   "execution_count": 24,
   "metadata": {},
   "outputs": [
    {
     "data": {
      "text/html": [
       "<table>\n",
       "<caption>A tibble: 5 × 3</caption>\n",
       "<thead>\n",
       "\t<tr><th scope=col>CompanyName</th><th scope=col>countRate</th><th scope=col>num</th></tr>\n",
       "\t<tr><th scope=col>&lt;chr&gt;</th><th scope=col>&lt;dbl&gt;</th><th scope=col>&lt;int&gt;</th></tr>\n",
       "</thead>\n",
       "<tbody>\n",
       "\t<tr><td>Tobago Estate (Pralus)              </td><td>4.000000</td><td> 1</td></tr>\n",
       "\t<tr><td>Heirloom Cacao Preservation (Zokoko)</td><td>3.875000</td><td> 2</td></tr>\n",
       "\t<tr><td>Ocelot                              </td><td>3.875000</td><td> 2</td></tr>\n",
       "\t<tr><td>Amedei                              </td><td>3.846154</td><td>13</td></tr>\n",
       "\t<tr><td>Matale                              </td><td>3.812500</td><td> 4</td></tr>\n",
       "</tbody>\n",
       "</table>\n"
      ],
      "text/latex": [
       "A tibble: 5 × 3\n",
       "\\begin{tabular}{r|lll}\n",
       " CompanyName & countRate & num\\\\\n",
       " <chr> & <dbl> & <int>\\\\\n",
       "\\hline\n",
       "\t Tobago Estate (Pralus)               & 4.000000 &  1\\\\\n",
       "\t Heirloom Cacao Preservation (Zokoko) & 3.875000 &  2\\\\\n",
       "\t Ocelot                               & 3.875000 &  2\\\\\n",
       "\t Amedei                               & 3.846154 & 13\\\\\n",
       "\t Matale                               & 3.812500 &  4\\\\\n",
       "\\end{tabular}\n"
      ],
      "text/markdown": [
       "\n",
       "A tibble: 5 × 3\n",
       "\n",
       "| CompanyName &lt;chr&gt; | countRate &lt;dbl&gt; | num &lt;int&gt; |\n",
       "|---|---|---|\n",
       "| Tobago Estate (Pralus)               | 4.000000 |  1 |\n",
       "| Heirloom Cacao Preservation (Zokoko) | 3.875000 |  2 |\n",
       "| Ocelot                               | 3.875000 |  2 |\n",
       "| Amedei                               | 3.846154 | 13 |\n",
       "| Matale                               | 3.812500 |  4 |\n",
       "\n"
      ],
      "text/plain": [
       "  CompanyName                          countRate num\n",
       "1 Tobago Estate (Pralus)               4.000000   1 \n",
       "2 Heirloom Cacao Preservation (Zokoko) 3.875000   2 \n",
       "3 Ocelot                               3.875000   2 \n",
       "4 Amedei                               3.846154  13 \n",
       "5 Matale                               3.812500   4 "
      ]
     },
     "metadata": {},
     "output_type": "display_data"
    },
    {
     "data": {
      "image/png": "[encoded data removed]",
      "text/plain": [
       "plot without title"
      ]
     },
     "metadata": {
      "image/png": {
       "height": 420,
       "width": 420
      },
      "text/plain": {
       "height": 420,
       "width": 420
      }
     },
     "output_type": "display_data"
    }
   ],
   "source": [
    "companiesRates<-cocoa %>% group_by(CompanyName) %>% summarise(countRate=mean(Rating), num=n()) %>%\n",
    "  arrange(desc(countRate))\n",
    "head(companiesRates,5)\n",
    "\n",
    "\n",
    "ggplot(head(companiesRates,5), aes(x=reorder(CompanyName, -countRate), y=countRate , fill=countRate))+geom_bar(stat=\"identity\")+\n",
    "  theme(axis.text.x = element_text(angle = 90, hjust = 1, size=15), axis.text.y=element_text(size=15) , legend.position=\"none\") +\n",
    "  scale_fill_continuous(trans = 'reverse', type=\"gradient\")+xlab(\"Company\")+ylab(\"Ratings\")"
   ]
  },
  {
   "cell_type": "code",
   "execution_count": null,
   "metadata": {},
   "outputs": [],
   "source": [
    "This distribution shows the top chocolate producing companies with rates as high as 4."
   ]
  },
  {
   "cell_type": "markdown",
   "metadata": {},
   "source": [
    "#### (v) Distribution of Specific Bean Origin against Ratings."
   ]
  },
  {
   "cell_type": "code",
   "execution_count": 35,
   "metadata": {},
   "outputs": [
    {
     "data": {
      "image/png": "[encoded data removed]",
      "text/plain": [
       "plot without title"
      ]
     },
     "metadata": {
      "image/png": {
       "height": 420,
       "width": 420
      },
      "text/plain": {
       "height": 420,
       "width": 420
      }
     },
     "output_type": "display_data"
    }
   ],
   "source": [
    "#Distribution of Specific Bean Origin with ratings\n",
    "\n",
    "cocoaSBO<-cocoa %>% group_by(SpecificBeanOrigin) %>% summarise(countRate=mean(Rating), num=n()) %>%\n",
    "  arrange(desc(countRate))\n",
    "ggplot(head(cocoaSBO,5), aes(x=reorder(SpecificBeanOrigin, -countRate), y= countRate, fill=\"Orange\"))+geom_bar(stat=\"identity\")+ \n",
    "  theme(axis.text.x = element_text(angle = 90, hjust = 1, size=15) , legend.position=\"none\")+ylab(\"Ratings\")+xlab(\"Specific Bean Origin\")\n",
    "\n"
   ]
  },
  {
   "cell_type": "code",
   "execution_count": null,
   "metadata": {},
   "outputs": [],
   "source": [
    "This distribution shows that the highest rated Bar Name for rated chocolate bars is \"Toscano Black\"."
   ]
  },
  {
   "cell_type": "markdown",
   "metadata": {},
   "source": [
    "#### (i) Distribution of Bean Type against Ratings"
   ]
  },
  {
   "cell_type": "code",
   "execution_count": 40,
   "metadata": {},
   "outputs": [
    {
     "data": {
      "image/png": "[encoded data removed]",
      "text/plain": [
       "plot without title"
      ]
     },
     "metadata": {
      "image/png": {
       "height": 420,
       "width": 420
      },
      "text/plain": {
       "height": 420,
       "width": 420
      }
     },
     "output_type": "display_data"
    },
    {
     "data": {
      "image/png": "[encoded data removed]",
      "text/plain": [
       "plot without title"
      ]
     },
     "metadata": {
      "image/png": {
       "height": 420,
       "width": 420
      },
      "text/plain": {
       "height": 420,
       "width": 420
      }
     },
     "output_type": "display_data"
    }
   ],
   "source": [
    "#BeanType against Ratings.\n",
    "#Best rated\n",
    "cocoaBT<-cocoa %>% group_by(BeanType) %>% summarise(countRate=mean(Rating), num=n()) %>%\n",
    "  arrange(desc(countRate))\n",
    "ggplot(head(cocoaBT,5), aes(x=reorder(BeanType, -countRate), y= countRate, fill=countRate))+geom_bar(stat=\"identity\")+ \n",
    "  theme(axis.text.x = element_text(angle = 90, hjust = 1,size=15), axis.text.y=element_text(size=15) , legend.position=\"none\")+ylab(\"Ratings\")+\n",
    "xlab(\"BeanType\")\n",
    "\n",
    "#Least rated\n",
    "cocoaBT<-cocoa %>% group_by(BeanType) %>% summarise(countRate=mean(Rating), num=n()) %>%\n",
    "  arrange(desc(countRate))\n",
    "ggplot(tail(cocoaBT,5), aes(x=reorder(BeanType, -countRate), y= countRate, fill=countRate))+geom_bar(stat=\"identity\")+ \n",
    "  theme(axis.text.x = element_text(angle = 90, hjust = 1,size=15), axis.text.y=element_text(size=15) , legend.position=\"none\")+ylab(\"Ratings\")+\n",
    "xlab(\"BeanType\")\n"
   ]
  },
  {
   "cell_type": "code",
   "execution_count": null,
   "metadata": {},
   "outputs": [],
   "source": [
    "This distribution shows that the best chocolate producing cacaa beans are \"Cacao Criollo(Ocumare 67)\" and \n",
    "the least is \"Forastero(Arriba)\"."
   ]
  }
 ],
 "metadata": {
  "kernelspec": {
   "display_name": "R",
   "language": "R",
   "name": "ir"
  },
  "language_info": {
   "codemirror_mode": "r",
   "file_extension": ".r",
   "mimetype": "text/x-r-source",
   "name": "R",
   "pygments_lexer": "r",
   "version": "3.6.1"
  }
 },
 "nbformat": 4,
 "nbformat_minor": 2
}
